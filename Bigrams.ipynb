{
 "cells": [
  {
   "cell_type": "code",
   "execution_count": 7,
   "metadata": {},
   "outputs": [],
   "source": [
    "#TASK3\n",
    "\n",
    "import nltk"
   ]
  },
  {
   "cell_type": "code",
   "execution_count": 11,
   "metadata": {},
   "outputs": [],
   "source": [
    "f = open(\"gd.txt\", \"r\")"
   ]
  },
  {
   "cell_type": "code",
   "execution_count": 12,
   "metadata": {},
   "outputs": [
    {
     "name": "stdout",
     "output_type": "stream",
     "text": [
      "[('Four', 'score'), ('score', 'and'), ('and', 'seven'), ('seven', 'years'), ('years', 'ago'), ('ago', 'our'), ('our', 'fathers'), ('fathers', 'brought'), ('brought', 'forth'), ('forth', 'on'), ('on', 'this'), ('this', 'continent,'), ('continent,', 'a'), ('a', 'new'), ('new', 'nation,'), ('nation,', 'conceived'), ('conceived', 'in'), ('in', 'Liberty,'), ('Liberty,', 'and'), ('and', 'dedicated'), ('dedicated', 'to'), ('to', 'the'), ('the', 'proposition'), ('proposition', 'that'), ('that', 'all'), ('all', 'men'), ('men', 'are'), ('are', 'created'), ('created', 'equal.\\n'), ('Now', 'we'), ('we', 'are'), ('are', 'engaged'), ('engaged', 'in'), ('in', 'a'), ('a', 'great'), ('great', 'civil'), ('civil', 'war,'), ('war,', 'testing'), ('testing', 'whether'), ('whether', 'that'), ('that', 'nation,'), ('nation,', 'or'), ('or', 'any'), ('any', 'nation'), ('nation', 'so'), ('so', 'conceived'), ('conceived', 'and'), ('and', 'dedicated,'), ('dedicated,', 'can'), ('can', 'long'), ('long', 'endure.'), ('endure.', 'We'), ('We', 'are'), ('are', 'met'), ('met', 'on'), ('on', 'a'), ('a', 'great'), ('great', 'battle-field'), ('battle-field', 'of'), ('of', 'that'), ('that', 'war.'), ('war.', 'We'), ('We', 'have'), ('have', 'come'), ('come', 'to'), ('to', 'dedicate'), ('dedicate', 'a'), ('a', 'portion'), ('portion', 'of'), ('of', 'that'), ('that', 'field,'), ('field,', 'as'), ('as', 'a'), ('a', 'final'), ('final', 'resting'), ('resting', 'place'), ('place', 'for'), ('for', 'those'), ('those', 'who'), ('who', 'here'), ('here', 'gave'), ('gave', 'their'), ('their', 'lives'), ('lives', 'that'), ('that', 'that'), ('that', 'nation'), ('nation', 'might'), ('might', 'live.'), ('live.', 'It'), ('It', 'is'), ('is', 'altogether'), ('altogether', 'fitting'), ('fitting', 'and'), ('and', 'proper'), ('proper', 'that'), ('that', 'we'), ('we', 'should'), ('should', 'do'), ('do', 'this.\\n'), ('But,', 'in'), ('in', 'a'), ('a', 'larger'), ('larger', 'sense,'), ('sense,', 'we'), ('we', 'can'), ('can', 'not'), ('not', 'dedicate'), ('dedicate', 'â€”'), ('â€”', 'we'), ('we', 'can'), ('can', 'not'), ('not', 'consecrate'), ('consecrate', 'â€”'), ('â€”', 'we'), ('we', 'can'), ('can', 'not'), ('not', 'hallow'), ('hallow', 'â€”'), ('â€”', 'this'), ('this', 'ground.'), ('ground.', 'The'), ('The', 'brave'), ('brave', 'men,'), ('men,', 'living'), ('living', 'and'), ('and', 'dead,'), ('dead,', 'who'), ('who', 'struggled'), ('struggled', 'here,'), ('here,', 'have'), ('have', 'consecrated'), ('consecrated', 'it,'), ('it,', 'far'), ('far', 'above'), ('above', 'our'), ('our', 'poor'), ('poor', 'power'), ('power', 'to'), ('to', 'add'), ('add', 'or'), ('or', 'detract.'), ('detract.', 'The'), ('The', 'world'), ('world', 'will'), ('will', 'little'), ('little', 'note,'), ('note,', 'nor'), ('nor', 'long'), ('long', 'remember'), ('remember', 'what'), ('what', 'we'), ('we', 'say'), ('say', 'here,'), ('here,', 'but'), ('but', 'it'), ('it', 'can'), ('can', 'never'), ('never', 'forget'), ('forget', 'what'), ('what', 'they'), ('they', 'did'), ('did', 'here.'), ('here.', 'It'), ('It', 'is'), ('is', 'for'), ('for', 'us'), ('us', 'the'), ('the', 'living,'), ('living,', 'rather,'), ('rather,', 'to'), ('to', 'be'), ('be', 'dedicated'), ('dedicated', 'here'), ('here', 'to'), ('to', 'the'), ('the', 'unfinished'), ('unfinished', 'work'), ('work', 'which'), ('which', 'they'), ('they', 'who'), ('who', 'fought'), ('fought', 'here'), ('here', 'have'), ('have', 'thus'), ('thus', 'far'), ('far', 'so'), ('so', 'nobly'), ('nobly', 'advanced.'), ('advanced.', 'It'), ('It', 'is'), ('is', 'rather'), ('rather', 'for'), ('for', 'us'), ('us', 'to'), ('to', 'be'), ('be', 'here'), ('here', 'dedicated'), ('dedicated', 'to'), ('to', 'the'), ('the', 'great'), ('great', 'task'), ('task', 'remaining'), ('remaining', 'before'), ('before', 'us'), ('us', 'â€”'), ('â€”', 'that'), ('that', 'from'), ('from', 'these'), ('these', 'honored'), ('honored', 'dead'), ('dead', 'we'), ('we', 'take'), ('take', 'increased'), ('increased', 'devotion'), ('devotion', 'to'), ('to', 'that'), ('that', 'cause'), ('cause', 'for'), ('for', 'which'), ('which', 'they'), ('they', 'gave'), ('gave', 'the'), ('the', 'last'), ('last', 'full'), ('full', 'measure'), ('measure', 'of'), ('of', 'devotion'), ('devotion', 'â€”'), ('â€”', 'that'), ('that', 'we'), ('we', 'here'), ('here', 'highly'), ('highly', 'resolve'), ('resolve', 'that'), ('that', 'these'), ('these', 'dead'), ('dead', 'shall'), ('shall', 'not'), ('not', 'have'), ('have', 'died'), ('died', 'in'), ('in', 'vain'), ('vain', 'â€”'), ('â€”', 'that'), ('that', 'this'), ('this', 'nation,'), ('nation,', 'under'), ('under', 'God,'), ('God,', 'shall'), ('shall', 'have'), ('have', 'a'), ('a', 'new'), ('new', 'birth'), ('birth', 'of'), ('of', 'freedom'), ('freedom', 'â€”'), ('â€”', 'and'), ('and', 'that'), ('that', 'government'), ('government', 'of'), ('of', 'the'), ('the', 'people,'), ('people,', 'by'), ('by', 'the'), ('the', 'people,'), ('people,', 'for'), ('for', 'the'), ('the', 'people,'), ('people,', 'shall'), ('shall', 'not'), ('not', 'perish'), ('perish', 'from'), ('from', 'the'), ('the', 'earth.\\n')]\n"
     ]
    }
   ],
   "source": [
    "text = f\n",
    "bigrams = [b for l in text for b in zip(l.split(\" \")[:-1], l.split(\" \")[1:])]\n",
    "print(bigrams)"
   ]
  },
  {
   "cell_type": "code",
   "execution_count": 13,
   "metadata": {},
   "outputs": [
    {
     "name": "stdout",
     "output_type": "stream",
     "text": [
      "274\n"
     ]
    }
   ],
   "source": [
    "c=0\n",
    "for x in bigrams:\n",
    "    c+=1\n",
    "print(c)\n",
    "\n"
   ]
  },
  {
   "cell_type": "code",
   "execution_count": null,
   "metadata": {},
   "outputs": [],
   "source": []
  },
  {
   "cell_type": "code",
   "execution_count": null,
   "metadata": {},
   "outputs": [],
   "source": []
  }
 ],
 "metadata": {
  "kernelspec": {
   "display_name": "Python 3",
   "language": "python",
   "name": "python3"
  },
  "language_info": {
   "codemirror_mode": {
    "name": "ipython",
    "version": 3
   },
   "file_extension": ".py",
   "mimetype": "text/x-python",
   "name": "python",
   "nbconvert_exporter": "python",
   "pygments_lexer": "ipython3",
   "version": "3.7.4"
  }
 },
 "nbformat": 4,
 "nbformat_minor": 2
}
